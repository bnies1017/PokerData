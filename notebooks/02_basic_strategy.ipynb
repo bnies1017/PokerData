{
 "cells": [
  {
   "metadata": {
    "ExecuteTime": {
     "end_time": "2025-08-30T21:16:58.915164Z",
     "start_time": "2025-08-30T21:16:58.459275Z"
    }
   },
   "cell_type": "code",
   "source": [
    "import pandas as pd\n",
    "import numpy as np\n",
    "from deuces import Card, Deck, Evaluator"
   ],
   "id": "eb127e4bbbcbe3c",
   "outputs": [],
   "execution_count": 1
  },
  {
   "cell_type": "code",
   "id": "initial_id",
   "metadata": {
    "collapsed": true,
    "ExecuteTime": {
     "end_time": "2025-08-30T21:28:56.462573Z",
     "start_time": "2025-08-30T21:28:56.453807Z"
    }
   },
   "source": [
    "from scripts.classify_hole import *\n",
    "\n",
    "def basic_strategy(hole, board, street, pot, bet, bankroll):\n",
    "    call = 0\n",
    "    if street == 0:\n",
    "        # Pre-flop\n",
    "        if pair(hole):\n",
    "            call += bet\n",
    "        if suited(hole):\n",
    "            call += bet\n",
    "        if broadway(hole):\n",
    "            call += bet\n",
    "        if connectors(hole):\n",
    "            call += bet\n",
    "        if ace(hole):\n",
    "            call += bet\n",
    "        if two_seven(hole):\n",
    "            call += bet\n",
    "    elif street == 1:\n",
    "        # TODO: implement flop\n",
    "    elif street == 2:\n",
    "        # TODO: implement turn\n",
    "    elif street == 3:\n",
    "        # TODO: implement river\n",
    "    return min(bet, bankroll)\n",
    "    \n",
    "        "
   ],
   "outputs": [
    {
     "ename": "IndentationError",
     "evalue": "expected an indented block after 'if' statement on line 2 (3641982022.py, line 4)",
     "output_type": "error",
     "traceback": [
      "\u001B[0;36m  Cell \u001B[0;32mIn[3], line 4\u001B[0;36m\u001B[0m\n\u001B[0;31m    elif street == 1:\u001B[0m\n\u001B[0m    ^\u001B[0m\n\u001B[0;31mIndentationError\u001B[0m\u001B[0;31m:\u001B[0m expected an indented block after 'if' statement on line 2\n"
     ]
    }
   ],
   "execution_count": 3
  },
  {
   "metadata": {},
   "cell_type": "code",
   "outputs": [],
   "execution_count": null,
   "source": "",
   "id": "a766f01ce3b053ad"
  }
 ],
 "metadata": {
  "kernelspec": {
   "display_name": "Python 3",
   "language": "python",
   "name": "python3"
  },
  "language_info": {
   "codemirror_mode": {
    "name": "ipython",
    "version": 2
   },
   "file_extension": ".py",
   "mimetype": "text/x-python",
   "name": "python",
   "nbconvert_exporter": "python",
   "pygments_lexer": "ipython2",
   "version": "2.7.6"
  }
 },
 "nbformat": 4,
 "nbformat_minor": 5
}
