{
 "cells": [
  {
   "metadata": {},
   "cell_type": "markdown",
   "source": [
    "## Section 02: Monte Carlo Probabilities\n",
    "**Abstract:** This notebook uses the data for several thousand poker hands in order to estimate certain probabilities, including winning probabilities for certain hole cards, draw \"hits\", and draw completion. The data (if not already available) can be sourced by fully executing [Section 01](./01_data_generation.ipynb). The results of each experiment can finally be stored as separate tables for use in data exploration or strategy development. "
   ],
   "id": "ff135ddae41fce5a"
  },
  {
   "metadata": {
    "ExecuteTime": {
     "end_time": "2025-09-04T23:20:22.502851Z",
     "start_time": "2025-09-04T23:20:22.145723Z"
    }
   },
   "cell_type": "code",
   "source": [
    "# Imports\n",
    "import pandas as pd\n",
    "import numpy as np\n",
    "from deuces import Card, Deck, Evaluator\n",
    "import random"
   ],
   "id": "31b80320fa871f54",
   "outputs": [],
   "execution_count": 1
  },
  {
   "metadata": {},
   "cell_type": "markdown",
   "source": [
    "**Hole Cards Winning Probabilities**\n",
    "\n",
    "The following chart describes the many probabilities of winning with certain hole cards,assuming a heads-up (1-opponent) situation. The upper triangle shows suited cards while the lower shows unsuited.\n",
    "\n",
    "![Pre-Flop Probabilities Chart](https://external-content.duckduckgo.com/iu/?u=https%3A%2F%2Fimages.actionnetwork.com%2Fblog%2F2020%2F05%2FScreen-Shot-2020-05-25-at-12.00.45-PM.png&f=1&nofb=1&ipt=2cdde30e9afa0f00f8cb42dd3219c006c3b8f2bfce75d6312cf993a3273caa1c)\n",
    "\n",
    "While this information is useful for early ideation, it does not represent probabilities that consider whether the number of opponents. More specifically, the desired probability can be formulated as such:\n",
    "$$\n",
    "P(Win | Rank1,Rank2,Suited,Players)\n",
    "$$\n",
    "By considering each possible combination of conditions and using the simulated data, these probabilities can be accurately estimated."
   ],
   "id": "8a2b72b9319d8f5"
  },
  {
   "metadata": {
    "ExecuteTime": {
     "end_time": "2025-09-04T23:20:22.518049Z",
     "start_time": "2025-09-04T23:20:22.507506Z"
    }
   },
   "cell_type": "code",
   "source": [
    "rows = []\n",
    "for r1 in range(13): # Ranks from 0 (2) to 12 (A)\n",
    "    for r2 in range(r1+1): # ranks from 0 to current rank\n",
    "        for opponents in range(1,9):  # Number of opponents range from 1-8\n",
    "            rows.append({\n",
    "                'rank_set': (r2, r1),\n",
    "                'suited': 0,\n",
    "                'opponents': opponents\n",
    "            })\n",
    "            if r1 != r2: # possibility of suited exists\n",
    "                rows.append({\n",
    "                'rank_set': (r2, r1),\n",
    "                'suited': 1,\n",
    "                'opponents': opponents\n",
    "            })\n",
    "            \n",
    "# create a dataframe using all of these rows\n",
    "preflop_df = pd.DataFrame(rows)\n",
    "\n",
    "# display heads_up data by filtering for opponents == 1\n",
    "preflop_df[preflop_df['opponents'] == 1]"
   ],
   "id": "588d1dd8ae0faced",
   "outputs": [
    {
     "data": {
      "text/plain": [
       "      rank_set  suited  opponents\n",
       "0       (0, 0)       0          1\n",
       "8       (0, 1)       0          1\n",
       "9       (0, 1)       1          1\n",
       "24      (1, 1)       0          1\n",
       "32      (0, 2)       0          1\n",
       "...        ...     ...        ...\n",
       "1312  (10, 12)       0          1\n",
       "1313  (10, 12)       1          1\n",
       "1328  (11, 12)       0          1\n",
       "1329  (11, 12)       1          1\n",
       "1344  (12, 12)       0          1\n",
       "\n",
       "[169 rows x 3 columns]"
      ],
      "text/html": [
       "<div>\n",
       "<style scoped>\n",
       "    .dataframe tbody tr th:only-of-type {\n",
       "        vertical-align: middle;\n",
       "    }\n",
       "\n",
       "    .dataframe tbody tr th {\n",
       "        vertical-align: top;\n",
       "    }\n",
       "\n",
       "    .dataframe thead th {\n",
       "        text-align: right;\n",
       "    }\n",
       "</style>\n",
       "<table border=\"1\" class=\"dataframe\">\n",
       "  <thead>\n",
       "    <tr style=\"text-align: right;\">\n",
       "      <th></th>\n",
       "      <th>rank_set</th>\n",
       "      <th>suited</th>\n",
       "      <th>opponents</th>\n",
       "    </tr>\n",
       "  </thead>\n",
       "  <tbody>\n",
       "    <tr>\n",
       "      <th>0</th>\n",
       "      <td>(0, 0)</td>\n",
       "      <td>0</td>\n",
       "      <td>1</td>\n",
       "    </tr>\n",
       "    <tr>\n",
       "      <th>8</th>\n",
       "      <td>(0, 1)</td>\n",
       "      <td>0</td>\n",
       "      <td>1</td>\n",
       "    </tr>\n",
       "    <tr>\n",
       "      <th>9</th>\n",
       "      <td>(0, 1)</td>\n",
       "      <td>1</td>\n",
       "      <td>1</td>\n",
       "    </tr>\n",
       "    <tr>\n",
       "      <th>24</th>\n",
       "      <td>(1, 1)</td>\n",
       "      <td>0</td>\n",
       "      <td>1</td>\n",
       "    </tr>\n",
       "    <tr>\n",
       "      <th>32</th>\n",
       "      <td>(0, 2)</td>\n",
       "      <td>0</td>\n",
       "      <td>1</td>\n",
       "    </tr>\n",
       "    <tr>\n",
       "      <th>...</th>\n",
       "      <td>...</td>\n",
       "      <td>...</td>\n",
       "      <td>...</td>\n",
       "    </tr>\n",
       "    <tr>\n",
       "      <th>1312</th>\n",
       "      <td>(10, 12)</td>\n",
       "      <td>0</td>\n",
       "      <td>1</td>\n",
       "    </tr>\n",
       "    <tr>\n",
       "      <th>1313</th>\n",
       "      <td>(10, 12)</td>\n",
       "      <td>1</td>\n",
       "      <td>1</td>\n",
       "    </tr>\n",
       "    <tr>\n",
       "      <th>1328</th>\n",
       "      <td>(11, 12)</td>\n",
       "      <td>0</td>\n",
       "      <td>1</td>\n",
       "    </tr>\n",
       "    <tr>\n",
       "      <th>1329</th>\n",
       "      <td>(11, 12)</td>\n",
       "      <td>1</td>\n",
       "      <td>1</td>\n",
       "    </tr>\n",
       "    <tr>\n",
       "      <th>1344</th>\n",
       "      <td>(12, 12)</td>\n",
       "      <td>0</td>\n",
       "      <td>1</td>\n",
       "    </tr>\n",
       "  </tbody>\n",
       "</table>\n",
       "<p>169 rows × 3 columns</p>\n",
       "</div>"
      ]
     },
     "execution_count": 2,
     "metadata": {},
     "output_type": "execute_result"
    }
   ],
   "execution_count": 2
  },
  {
   "metadata": {
    "ExecuteTime": {
     "end_time": "2025-09-04T23:20:22.573243Z",
     "start_time": "2025-09-04T23:20:22.568944Z"
    }
   },
   "cell_type": "code",
   "source": "preflop_df.info()\n",
   "id": "d32f5a30ce230f30",
   "outputs": [
    {
     "name": "stdout",
     "output_type": "stream",
     "text": [
      "<class 'pandas.core.frame.DataFrame'>\n",
      "RangeIndex: 1352 entries, 0 to 1351\n",
      "Data columns (total 3 columns):\n",
      " #   Column     Non-Null Count  Dtype \n",
      "---  ------     --------------  ----- \n",
      " 0   rank_set   1352 non-null   object\n",
      " 1   suited     1352 non-null   int64 \n",
      " 2   opponents  1352 non-null   int64 \n",
      "dtypes: int64(2), object(1)\n",
      "memory usage: 31.8+ KB\n"
     ]
    }
   ],
   "execution_count": 3
  },
  {
   "metadata": {
    "ExecuteTime": {
     "end_time": "2025-09-04T23:22:43.876618Z",
     "start_time": "2025-09-04T23:20:22.643653Z"
    }
   },
   "cell_type": "code",
   "source": [
    "from scripts.monte_carlo_methods import compute_win_prob\n",
    "\n",
    "# using the hands_df, calculate winning odds\n",
    "hands_df = pd.read_csv('../data/hands.csv')\n",
    "\n",
    "hands_df['hole1_rank'] = hands_df['hole1'].apply(Card.get_rank_int)\n",
    "hands_df['hole2_rank'] = hands_df['hole2'].apply(Card.get_rank_int)\n",
    "hands_df['hole1_suit'] = hands_df['hole1'].apply(Card.get_suit_int)\n",
    "hands_df['hole2_suit'] = hands_df['hole2'].apply(Card.get_suit_int)\n",
    "hands_df['suited'] = hands_df['hole1_suit'] == hands_df['hole2_suit']\n",
    "hands_df['rank_set'] = hands_df.apply(lambda x: frozenset([x['hole1_rank'], x['hole2_rank']]), axis=1)\n",
    "preflop_df['rank_set'] = preflop_df['rank_set'].apply(lambda x: frozenset(x))\n",
    "\n",
    "\n",
    "evaluator = Evaluator()\n",
    "deck = Deck()\n",
    "\n",
    "# Merge hands_df with preflop_df on rank_set\n",
    "merged = preflop_df.merge(hands_df, on=['rank_set', 'suited'])\n",
    "# \n",
    "grouped = merged.groupby(['rank_set', 'suited', 'opponents']).apply(lambda row: compute_win_prob(row, deck, evaluator))\n",
    "grouped"
   ],
   "id": "ee6a4ddf188d1ad0",
   "outputs": [
    {
     "data": {
      "text/plain": [
       "rank_set  suited  opponents\n",
       "(0)       0       1            0.523490\n",
       "                  2            0.337808\n",
       "                  3            0.248322\n",
       "                  4            0.201342\n",
       "                  5            0.178971\n",
       "                                 ...   \n",
       "(12)      0       4            0.574949\n",
       "                  5            0.527721\n",
       "                  6            0.459959\n",
       "                  7            0.400411\n",
       "                  8            0.361396\n",
       "Length: 1352, dtype: float64"
      ]
     },
     "execution_count": 4,
     "metadata": {},
     "output_type": "execute_result"
    }
   ],
   "execution_count": 4
  },
  {
   "metadata": {
    "ExecuteTime": {
     "end_time": "2025-09-04T23:22:43.906094Z",
     "start_time": "2025-09-04T23:22:43.901954Z"
    }
   },
   "cell_type": "code",
   "source": [
    "# Turn Series into DataFrame\n",
    "grouped = grouped.reset_index(name='win_prob')\n",
    "\n",
    "# Rename columns to match preflop_df\n",
    "grouped = grouped.rename(columns={'suited_pre': 'suited'})"
   ],
   "id": "817f70f8266f55a9",
   "outputs": [],
   "execution_count": 5
  },
  {
   "metadata": {
    "ExecuteTime": {
     "end_time": "2025-09-04T23:22:43.939923Z",
     "start_time": "2025-09-04T23:22:43.934048Z"
    }
   },
   "cell_type": "code",
   "source": "grouped[grouped['opponents'] == 1]",
   "id": "259ac7ab677d0f3",
   "outputs": [
    {
     "data": {
      "text/plain": [
       "     rank_set  suited  opponents  win_prob\n",
       "0         (0)       0          1  0.523490\n",
       "8     (9, 10)       0          1  0.565775\n",
       "16    (9, 10)       1          1  0.597270\n",
       "24    (8, 10)       0          1  0.602799\n",
       "32    (8, 10)       1          1  0.647651\n",
       "...       ...     ...        ...       ...\n",
       "1312   (3, 6)       1          1  0.454545\n",
       "1320   (2, 6)       0          1  0.417722\n",
       "1328   (2, 6)       1          1  0.406143\n",
       "1336      (8)       0          1  0.751073\n",
       "1344     (12)       0          1  0.864476\n",
       "\n",
       "[169 rows x 4 columns]"
      ],
      "text/html": [
       "<div>\n",
       "<style scoped>\n",
       "    .dataframe tbody tr th:only-of-type {\n",
       "        vertical-align: middle;\n",
       "    }\n",
       "\n",
       "    .dataframe tbody tr th {\n",
       "        vertical-align: top;\n",
       "    }\n",
       "\n",
       "    .dataframe thead th {\n",
       "        text-align: right;\n",
       "    }\n",
       "</style>\n",
       "<table border=\"1\" class=\"dataframe\">\n",
       "  <thead>\n",
       "    <tr style=\"text-align: right;\">\n",
       "      <th></th>\n",
       "      <th>rank_set</th>\n",
       "      <th>suited</th>\n",
       "      <th>opponents</th>\n",
       "      <th>win_prob</th>\n",
       "    </tr>\n",
       "  </thead>\n",
       "  <tbody>\n",
       "    <tr>\n",
       "      <th>0</th>\n",
       "      <td>(0)</td>\n",
       "      <td>0</td>\n",
       "      <td>1</td>\n",
       "      <td>0.523490</td>\n",
       "    </tr>\n",
       "    <tr>\n",
       "      <th>8</th>\n",
       "      <td>(9, 10)</td>\n",
       "      <td>0</td>\n",
       "      <td>1</td>\n",
       "      <td>0.565775</td>\n",
       "    </tr>\n",
       "    <tr>\n",
       "      <th>16</th>\n",
       "      <td>(9, 10)</td>\n",
       "      <td>1</td>\n",
       "      <td>1</td>\n",
       "      <td>0.597270</td>\n",
       "    </tr>\n",
       "    <tr>\n",
       "      <th>24</th>\n",
       "      <td>(8, 10)</td>\n",
       "      <td>0</td>\n",
       "      <td>1</td>\n",
       "      <td>0.602799</td>\n",
       "    </tr>\n",
       "    <tr>\n",
       "      <th>32</th>\n",
       "      <td>(8, 10)</td>\n",
       "      <td>1</td>\n",
       "      <td>1</td>\n",
       "      <td>0.647651</td>\n",
       "    </tr>\n",
       "    <tr>\n",
       "      <th>...</th>\n",
       "      <td>...</td>\n",
       "      <td>...</td>\n",
       "      <td>...</td>\n",
       "      <td>...</td>\n",
       "    </tr>\n",
       "    <tr>\n",
       "      <th>1312</th>\n",
       "      <td>(3, 6)</td>\n",
       "      <td>1</td>\n",
       "      <td>1</td>\n",
       "      <td>0.454545</td>\n",
       "    </tr>\n",
       "    <tr>\n",
       "      <th>1320</th>\n",
       "      <td>(2, 6)</td>\n",
       "      <td>0</td>\n",
       "      <td>1</td>\n",
       "      <td>0.417722</td>\n",
       "    </tr>\n",
       "    <tr>\n",
       "      <th>1328</th>\n",
       "      <td>(2, 6)</td>\n",
       "      <td>1</td>\n",
       "      <td>1</td>\n",
       "      <td>0.406143</td>\n",
       "    </tr>\n",
       "    <tr>\n",
       "      <th>1336</th>\n",
       "      <td>(8)</td>\n",
       "      <td>0</td>\n",
       "      <td>1</td>\n",
       "      <td>0.751073</td>\n",
       "    </tr>\n",
       "    <tr>\n",
       "      <th>1344</th>\n",
       "      <td>(12)</td>\n",
       "      <td>0</td>\n",
       "      <td>1</td>\n",
       "      <td>0.864476</td>\n",
       "    </tr>\n",
       "  </tbody>\n",
       "</table>\n",
       "<p>169 rows × 4 columns</p>\n",
       "</div>"
      ]
     },
     "execution_count": 6,
     "metadata": {},
     "output_type": "execute_result"
    }
   ],
   "execution_count": 6
  },
  {
   "metadata": {
    "ExecuteTime": {
     "end_time": "2025-09-05T02:42:45.711663Z",
     "start_time": "2025-09-05T02:42:45.708969Z"
    }
   },
   "cell_type": "code",
   "source": [
    "def preflop_win_prob(r1, r2, suited, opponents):\n",
    "    rank_set = frozenset([r1, r2])\n",
    "    return grouped[(grouped['rank_set'] == rank_set) & (grouped['suited'] == suited) & (grouped['opponents'] == opponents)]['win_prob']"
   ],
   "id": "f8b0686fb0c56cfa",
   "outputs": [],
   "execution_count": 9
  },
  {
   "metadata": {
    "ExecuteTime": {
     "end_time": "2025-09-05T02:51:01.343564Z",
     "start_time": "2025-09-05T02:51:01.336393Z"
    }
   },
   "cell_type": "code",
   "source": "preflop_win_prob(12,12 , 0, 8)",
   "id": "52e3b81aa7c9402e",
   "outputs": [
    {
     "data": {
      "text/plain": [
       "1351    0.361396\n",
       "Name: win_prob, dtype: float64"
      ]
     },
     "execution_count": 24,
     "metadata": {},
     "output_type": "execute_result"
    }
   ],
   "execution_count": 24
  },
  {
   "metadata": {},
   "cell_type": "code",
   "outputs": [],
   "execution_count": null,
   "source": "",
   "id": "acf98defc72589a1"
  }
 ],
 "metadata": {
  "kernelspec": {
   "display_name": "Python 3",
   "language": "python",
   "name": "python3"
  },
  "language_info": {
   "codemirror_mode": {
    "name": "ipython",
    "version": 2
   },
   "file_extension": ".py",
   "mimetype": "text/x-python",
   "name": "python",
   "nbconvert_exporter": "python",
   "pygments_lexer": "ipython2",
   "version": "2.7.6"
  }
 },
 "nbformat": 4,
 "nbformat_minor": 5
}
