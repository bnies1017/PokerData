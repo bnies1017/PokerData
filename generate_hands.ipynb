{
 "cells": [
  {
   "cell_type": "code",
   "id": "initial_id",
   "metadata": {
    "collapsed": true,
    "ExecuteTime": {
     "end_time": "2025-08-26T01:45:10.999567Z",
     "start_time": "2025-08-26T01:45:10.996487Z"
    }
   },
   "source": [
    "import pandas as pd\n",
    "import numpy as np\n",
    "from deuces import Deck, Card, Evaluator"
   ],
   "outputs": [],
   "execution_count": 181
  },
  {
   "metadata": {
    "ExecuteTime": {
     "end_time": "2025-08-26T01:45:11.008336Z",
     "start_time": "2025-08-26T01:45:11.005348Z"
    }
   },
   "cell_type": "code",
   "source": [
    "def generate_hands(n_hands):\n",
    "    deck = Deck()\n",
    "    hands = []\n",
    "    for _ in range(n_hands):\n",
    "        deck.shuffle()\n",
    "        cards = deck.draw(7)\n",
    "        hands.append(cards)\n",
    "    return hands      "
   ],
   "id": "aecfcd62edb97217",
   "outputs": [],
   "execution_count": 182
  },
  {
   "metadata": {
    "ExecuteTime": {
     "end_time": "2025-08-26T01:45:12.481108Z",
     "start_time": "2025-08-26T01:45:11.032741Z"
    }
   },
   "cell_type": "code",
   "source": [
    "hands = generate_hands(int(9.999e4))\n",
    "hands_df = pd.DataFrame(hands, columns=['hole1', 'hole2', 'flop1', 'flop2', 'flop3', 'turn', 'river'])\n",
    "hands_df.head()"
   ],
   "id": "aa3204d409ab47ac",
   "outputs": [
    {
     "data": {
      "text/plain": [
       "       hole1      hole2     flop1      flop2      flop3       turn     river\n",
       "0     266757    4228625     73730      81922   67127839    2106637  67144223\n",
       "1     533255  268454953  16783383  134253349     164099   33589533  67127839\n",
       "2  134224677      73730    279045  134236965   33564957   67119647   8423187\n",
       "3      81922   16787479    295429   67115551  268454953     266757   2114829\n",
       "4     533255   33589533    541447  268471337    2106637  134253349    270853"
      ],
      "text/html": [
       "<div>\n",
       "<style scoped>\n",
       "    .dataframe tbody tr th:only-of-type {\n",
       "        vertical-align: middle;\n",
       "    }\n",
       "\n",
       "    .dataframe tbody tr th {\n",
       "        vertical-align: top;\n",
       "    }\n",
       "\n",
       "    .dataframe thead th {\n",
       "        text-align: right;\n",
       "    }\n",
       "</style>\n",
       "<table border=\"1\" class=\"dataframe\">\n",
       "  <thead>\n",
       "    <tr style=\"text-align: right;\">\n",
       "      <th></th>\n",
       "      <th>hole1</th>\n",
       "      <th>hole2</th>\n",
       "      <th>flop1</th>\n",
       "      <th>flop2</th>\n",
       "      <th>flop3</th>\n",
       "      <th>turn</th>\n",
       "      <th>river</th>\n",
       "    </tr>\n",
       "  </thead>\n",
       "  <tbody>\n",
       "    <tr>\n",
       "      <th>0</th>\n",
       "      <td>266757</td>\n",
       "      <td>4228625</td>\n",
       "      <td>73730</td>\n",
       "      <td>81922</td>\n",
       "      <td>67127839</td>\n",
       "      <td>2106637</td>\n",
       "      <td>67144223</td>\n",
       "    </tr>\n",
       "    <tr>\n",
       "      <th>1</th>\n",
       "      <td>533255</td>\n",
       "      <td>268454953</td>\n",
       "      <td>16783383</td>\n",
       "      <td>134253349</td>\n",
       "      <td>164099</td>\n",
       "      <td>33589533</td>\n",
       "      <td>67127839</td>\n",
       "    </tr>\n",
       "    <tr>\n",
       "      <th>2</th>\n",
       "      <td>134224677</td>\n",
       "      <td>73730</td>\n",
       "      <td>279045</td>\n",
       "      <td>134236965</td>\n",
       "      <td>33564957</td>\n",
       "      <td>67119647</td>\n",
       "      <td>8423187</td>\n",
       "    </tr>\n",
       "    <tr>\n",
       "      <th>3</th>\n",
       "      <td>81922</td>\n",
       "      <td>16787479</td>\n",
       "      <td>295429</td>\n",
       "      <td>67115551</td>\n",
       "      <td>268454953</td>\n",
       "      <td>266757</td>\n",
       "      <td>2114829</td>\n",
       "    </tr>\n",
       "    <tr>\n",
       "      <th>4</th>\n",
       "      <td>533255</td>\n",
       "      <td>33589533</td>\n",
       "      <td>541447</td>\n",
       "      <td>268471337</td>\n",
       "      <td>2106637</td>\n",
       "      <td>134253349</td>\n",
       "      <td>270853</td>\n",
       "    </tr>\n",
       "  </tbody>\n",
       "</table>\n",
       "</div>"
      ]
     },
     "execution_count": 183,
     "metadata": {},
     "output_type": "execute_result"
    }
   ],
   "execution_count": 183
  },
  {
   "metadata": {
    "ExecuteTime": {
     "end_time": "2025-08-26T01:45:16.629480Z",
     "start_time": "2025-08-26T01:45:12.584718Z"
    }
   },
   "cell_type": "code",
   "source": [
    "evaluator = Evaluator()\n",
    "\n",
    "hands_df['flop_eval'] = hands_df.apply(lambda row: evaluator.evaluate(list(row.values[:2]), list(row.values[2:5])), axis=1)\n",
    "hands_df['turn_eval'] = hands_df.apply(lambda row: evaluator.evaluate(list(row.values[:2]), list(row.values[2:6])), axis=1)\n",
    "hands_df['river_eval'] = hands_df.apply(lambda row: evaluator.evaluate(list(row.values[:2]), list(row.values[2:7])), axis=1)\n",
    "hands_df.head()"
   ],
   "id": "86a2659c05ac3d67",
   "outputs": [
    {
     "data": {
      "text/plain": [
       "       hole1      hole2     flop1      flop2      flop3       turn     river  \\\n",
       "0     266757    4228625     73730      81922   67127839    2106637  67144223   \n",
       "1     533255  268454953  16783383  134253349     164099   33589533  67127839   \n",
       "2  134224677      73730    279045  134236965   33564957   67119647   8423187   \n",
       "3      81922   16787479    295429   67115551  268454953     266757   2114829   \n",
       "4     533255   33589533    541447  268471337    2106637  134253349    270853   \n",
       "\n",
       "   flop_eval  turn_eval  river_eval  \n",
       "0       6090       6087        2825  \n",
       "1       6289       6234        1600  \n",
       "2       3680       3607        3602  \n",
       "3       6412       5537        5537  \n",
       "4       5328       5307        5307  "
      ],
      "text/html": [
       "<div>\n",
       "<style scoped>\n",
       "    .dataframe tbody tr th:only-of-type {\n",
       "        vertical-align: middle;\n",
       "    }\n",
       "\n",
       "    .dataframe tbody tr th {\n",
       "        vertical-align: top;\n",
       "    }\n",
       "\n",
       "    .dataframe thead th {\n",
       "        text-align: right;\n",
       "    }\n",
       "</style>\n",
       "<table border=\"1\" class=\"dataframe\">\n",
       "  <thead>\n",
       "    <tr style=\"text-align: right;\">\n",
       "      <th></th>\n",
       "      <th>hole1</th>\n",
       "      <th>hole2</th>\n",
       "      <th>flop1</th>\n",
       "      <th>flop2</th>\n",
       "      <th>flop3</th>\n",
       "      <th>turn</th>\n",
       "      <th>river</th>\n",
       "      <th>flop_eval</th>\n",
       "      <th>turn_eval</th>\n",
       "      <th>river_eval</th>\n",
       "    </tr>\n",
       "  </thead>\n",
       "  <tbody>\n",
       "    <tr>\n",
       "      <th>0</th>\n",
       "      <td>266757</td>\n",
       "      <td>4228625</td>\n",
       "      <td>73730</td>\n",
       "      <td>81922</td>\n",
       "      <td>67127839</td>\n",
       "      <td>2106637</td>\n",
       "      <td>67144223</td>\n",
       "      <td>6090</td>\n",
       "      <td>6087</td>\n",
       "      <td>2825</td>\n",
       "    </tr>\n",
       "    <tr>\n",
       "      <th>1</th>\n",
       "      <td>533255</td>\n",
       "      <td>268454953</td>\n",
       "      <td>16783383</td>\n",
       "      <td>134253349</td>\n",
       "      <td>164099</td>\n",
       "      <td>33589533</td>\n",
       "      <td>67127839</td>\n",
       "      <td>6289</td>\n",
       "      <td>6234</td>\n",
       "      <td>1600</td>\n",
       "    </tr>\n",
       "    <tr>\n",
       "      <th>2</th>\n",
       "      <td>134224677</td>\n",
       "      <td>73730</td>\n",
       "      <td>279045</td>\n",
       "      <td>134236965</td>\n",
       "      <td>33564957</td>\n",
       "      <td>67119647</td>\n",
       "      <td>8423187</td>\n",
       "      <td>3680</td>\n",
       "      <td>3607</td>\n",
       "      <td>3602</td>\n",
       "    </tr>\n",
       "    <tr>\n",
       "      <th>3</th>\n",
       "      <td>81922</td>\n",
       "      <td>16787479</td>\n",
       "      <td>295429</td>\n",
       "      <td>67115551</td>\n",
       "      <td>268454953</td>\n",
       "      <td>266757</td>\n",
       "      <td>2114829</td>\n",
       "      <td>6412</td>\n",
       "      <td>5537</td>\n",
       "      <td>5537</td>\n",
       "    </tr>\n",
       "    <tr>\n",
       "      <th>4</th>\n",
       "      <td>533255</td>\n",
       "      <td>33589533</td>\n",
       "      <td>541447</td>\n",
       "      <td>268471337</td>\n",
       "      <td>2106637</td>\n",
       "      <td>134253349</td>\n",
       "      <td>270853</td>\n",
       "      <td>5328</td>\n",
       "      <td>5307</td>\n",
       "      <td>5307</td>\n",
       "    </tr>\n",
       "  </tbody>\n",
       "</table>\n",
       "</div>"
      ]
     },
     "execution_count": 184,
     "metadata": {},
     "output_type": "execute_result"
    }
   ],
   "execution_count": 184
  },
  {
   "metadata": {
    "ExecuteTime": {
     "end_time": "2025-08-26T01:45:27.133607Z",
     "start_time": "2025-08-26T01:45:26.839347Z"
    }
   },
   "cell_type": "code",
   "source": "hands_df.to_csv('data/hands.csv')",
   "id": "6fe3e249074bb48f",
   "outputs": [],
   "execution_count": 186
  },
  {
   "metadata": {
    "ExecuteTime": {
     "end_time": "2025-08-26T01:45:28.003690Z",
     "start_time": "2025-08-26T01:45:27.999729Z"
    }
   },
   "cell_type": "code",
   "source": [
    "def prettify_row(row):\n",
    "    cards = row.values[:7]\n",
    "    cards = [Card.int_to_str(card) for card in cards]\n",
    "    hand_evals = row.values[7:]\n",
    "    hand_types = [evaluator.class_to_string(evaluator.get_rank_class(hand_eval)) for hand_eval in hand_evals]\n",
    "    return cards + hand_types"
   ],
   "id": "fa3c4833131174ae",
   "outputs": [],
   "execution_count": 187
  },
  {
   "metadata": {
    "ExecuteTime": {
     "end_time": "2025-08-26T01:45:31.244619Z",
     "start_time": "2025-08-26T01:45:28.288614Z"
    }
   },
   "cell_type": "code",
   "source": [
    "pretty_hands_df = hands_df.transform(prettify_row, axis=1)\n",
    "pretty_hands_df.head()"
   ],
   "id": "84a4c3e70a3b67a8",
   "outputs": [
    {
     "data": {
      "text/plain": [
       "  hole1 hole2 flop1 flop2 flop3 turn river  flop_eval  turn_eval river_eval\n",
       "0    4s    8c    2h    2d    Qd   7h    Qc       Pair       Pair   Two Pair\n",
       "1    5h    Ad    Ts    Kc    3c   Jc    Qd  High Card  High Card   Straight\n",
       "2    Ks    2h    4d    Kd    Jh   Qh    9c       Pair       Pair       Pair\n",
       "3    2d    Th    4c    Qs    Ad   4s    7d  High Card       Pair       Pair\n",
       "4    5h    Jc    5d    Ac    7h   Kc    4h       Pair       Pair       Pair"
      ],
      "text/html": [
       "<div>\n",
       "<style scoped>\n",
       "    .dataframe tbody tr th:only-of-type {\n",
       "        vertical-align: middle;\n",
       "    }\n",
       "\n",
       "    .dataframe tbody tr th {\n",
       "        vertical-align: top;\n",
       "    }\n",
       "\n",
       "    .dataframe thead th {\n",
       "        text-align: right;\n",
       "    }\n",
       "</style>\n",
       "<table border=\"1\" class=\"dataframe\">\n",
       "  <thead>\n",
       "    <tr style=\"text-align: right;\">\n",
       "      <th></th>\n",
       "      <th>hole1</th>\n",
       "      <th>hole2</th>\n",
       "      <th>flop1</th>\n",
       "      <th>flop2</th>\n",
       "      <th>flop3</th>\n",
       "      <th>turn</th>\n",
       "      <th>river</th>\n",
       "      <th>flop_eval</th>\n",
       "      <th>turn_eval</th>\n",
       "      <th>river_eval</th>\n",
       "    </tr>\n",
       "  </thead>\n",
       "  <tbody>\n",
       "    <tr>\n",
       "      <th>0</th>\n",
       "      <td>4s</td>\n",
       "      <td>8c</td>\n",
       "      <td>2h</td>\n",
       "      <td>2d</td>\n",
       "      <td>Qd</td>\n",
       "      <td>7h</td>\n",
       "      <td>Qc</td>\n",
       "      <td>Pair</td>\n",
       "      <td>Pair</td>\n",
       "      <td>Two Pair</td>\n",
       "    </tr>\n",
       "    <tr>\n",
       "      <th>1</th>\n",
       "      <td>5h</td>\n",
       "      <td>Ad</td>\n",
       "      <td>Ts</td>\n",
       "      <td>Kc</td>\n",
       "      <td>3c</td>\n",
       "      <td>Jc</td>\n",
       "      <td>Qd</td>\n",
       "      <td>High Card</td>\n",
       "      <td>High Card</td>\n",
       "      <td>Straight</td>\n",
       "    </tr>\n",
       "    <tr>\n",
       "      <th>2</th>\n",
       "      <td>Ks</td>\n",
       "      <td>2h</td>\n",
       "      <td>4d</td>\n",
       "      <td>Kd</td>\n",
       "      <td>Jh</td>\n",
       "      <td>Qh</td>\n",
       "      <td>9c</td>\n",
       "      <td>Pair</td>\n",
       "      <td>Pair</td>\n",
       "      <td>Pair</td>\n",
       "    </tr>\n",
       "    <tr>\n",
       "      <th>3</th>\n",
       "      <td>2d</td>\n",
       "      <td>Th</td>\n",
       "      <td>4c</td>\n",
       "      <td>Qs</td>\n",
       "      <td>Ad</td>\n",
       "      <td>4s</td>\n",
       "      <td>7d</td>\n",
       "      <td>High Card</td>\n",
       "      <td>Pair</td>\n",
       "      <td>Pair</td>\n",
       "    </tr>\n",
       "    <tr>\n",
       "      <th>4</th>\n",
       "      <td>5h</td>\n",
       "      <td>Jc</td>\n",
       "      <td>5d</td>\n",
       "      <td>Ac</td>\n",
       "      <td>7h</td>\n",
       "      <td>Kc</td>\n",
       "      <td>4h</td>\n",
       "      <td>Pair</td>\n",
       "      <td>Pair</td>\n",
       "      <td>Pair</td>\n",
       "    </tr>\n",
       "  </tbody>\n",
       "</table>\n",
       "</div>"
      ]
     },
     "execution_count": 188,
     "metadata": {},
     "output_type": "execute_result"
    }
   ],
   "execution_count": 188
  },
  {
   "metadata": {},
   "cell_type": "code",
   "outputs": [],
   "execution_count": null,
   "source": "",
   "id": "97d86f68201fba45"
  }
 ],
 "metadata": {
  "kernelspec": {
   "display_name": "Python 3",
   "language": "python",
   "name": "python3"
  },
  "language_info": {
   "codemirror_mode": {
    "name": "ipython",
    "version": 2
   },
   "file_extension": ".py",
   "mimetype": "text/x-python",
   "name": "python",
   "nbconvert_exporter": "python",
   "pygments_lexer": "ipython2",
   "version": "2.7.6"
  }
 },
 "nbformat": 4,
 "nbformat_minor": 5
}
